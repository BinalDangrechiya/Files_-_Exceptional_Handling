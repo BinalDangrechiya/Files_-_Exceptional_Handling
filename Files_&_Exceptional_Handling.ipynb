{
  "nbformat": 4,
  "nbformat_minor": 0,
  "metadata": {
    "colab": {
      "provenance": []
    },
    "kernelspec": {
      "name": "python3",
      "display_name": "Python 3"
    },
    "language_info": {
      "name": "python"
    }
  },
  "cells": [
    {
      "cell_type": "markdown",
      "source": [
        "Q1. Discuss the scenarios where multithreading is preferable to multiprocessing and scenarios where multiprocessing is a better choice."
      ],
      "metadata": {
        "id": "tnLd4zL6jUXW"
      }
    },
    {
      "cell_type": "markdown",
      "source": [
        "Multithreading vs. Multiprocessing: A Comparative Analysis\n",
        "\n",
        "Multithreading and multiprocessing are two powerful techniques for improving the performance of computer programs. Both involve executing multiple tasks concurrently, but they differ in their underlying mechanisms and have distinct advantages in specific scenarios.\n",
        "\n",
        "* Multithreading\n",
        "\n",
        "  * Definition: Multithreading involves creating multiple threads within a single process. These threads share the same memory space and can communicate with each other easily.\n",
        "  * Advantages:\n",
        "    * Lower overhead: Creating and managing threads is generally less resource-intensive than creating and managing processes.\n",
        "    * Efficient communication: Threads within the same process can share data directly, eliminating the need for complex inter-process communication mechanisms.\n",
        "    * Suitable for I/O-bound tasks: Multithreading is well-suited for tasks that involve frequent input/output operations, such as network requests or file operations. While one thread waits for I/O, others can continue processing, maximizing CPU utilization.\n",
        "* Multiprocessing\n",
        "\n",
        "  * Definition: Multiprocessing involves creating multiple processes, each with its own memory space. These processes run independently and communicate with each other through mechanisms like message queues or shared memory.\n",
        "  * Advantages:\n",
        "    * True parallelism: Multiprocessing can leverage multiple CPU cores or processors to execute tasks truly in parallel, providing significant performance gains for CPU-bound tasks.\n",
        "    * Fault isolation: If one process crashes, it doesn't affect other processes, improving the overall stability of the system.\n",
        "    * Suitable for CPU-bound tasks: Multiprocessing is ideal for tasks that heavily utilize the CPU, such as complex calculations or data processing.\n",
        "\n",
        "Choosing Between Multithreading and Multiprocessing\n",
        "\n",
        "The choice between multithreading and multiprocessing depends on the specific characteristics of the task at hand:\n",
        "\n",
        "  * I/O-bound tasks: If the task involves frequent input/output operations and the CPU is not fully utilized, multithreading is generally preferred due to its lower overhead and efficient communication.\n",
        "  * CPU-bound tasks: If the task heavily utilizes the CPU and requires true parallelism, multiprocessing is the better choice.\n",
        "  * emory-intensive tasks: If the task requires a large amount of memory, multiprocessing can be more efficient as each process has its own memory space, reducing the risk of memory contention.\n",
        "  * Fault tolerance: If fault isolation is critical, multiprocessing is preferable as it prevents a single process crash from affecting the entire system."
      ],
      "metadata": {
        "id": "HrVYLs5cgO1i"
      }
    },
    {
      "cell_type": "markdown",
      "source": [
        "Q2. Describe what a process pool is and how it helps in managing multiple processes efficiently."
      ],
      "metadata": {
        "id": "77y2ep1Ajf3t"
      }
    },
    {
      "cell_type": "markdown",
      "source": [
        "Process Pool: A Powerful Tool for Parallel Processing\n",
        "\n",
        "A process pool is a programming construct that manages a group of worker processes, allowing you to distribute tasks across multiple CPU cores or processors. This is particularly useful for CPU-bound tasks, where the performance bottleneck lies in the processing power rather than I/O operations\n",
        "\n",
        "How Process Pools Work\n",
        "\n",
        "1. Creation: You create a process pool by specifying the number of worker processes you want to use.\n",
        "2. Task Submission: You submit tasks to the pool, typically as functions with arguments.\n",
        "3. Task Distribution: The pool intelligently distributes the tasks among the available worker processes.\n",
        "4. Execution: Each worker process executes its assigned tasks independently.\n",
        "5. Result Collection: The pool collects the results from the worker processes and returns them to you.\n",
        "Benefits of Using Process Pools\n",
        "\n",
        "* Improved Performance: By distributing tasks across multiple cores, process pools can significantly speed up execution, especially for CPU-bound tasks.  \n",
        "* Simplified Parallelism: Process pools handle the complexities of process management, such as creation, synchronization, and communication, making ieasier to write parallel code.\n",
        "* *Resource Management: Process pools can be configured to control the number of worker processes, allowing you to optimize resource utilization.\n",
        "* Fault Isolation: Each worker process operates in its own memory space, providing some degree of fault isolation. If one worker process crashes, it doesn't necessarily affect others.\n",
        "* Example: Using Python's multiprocessing.Pool"
      ],
      "metadata": {
        "id": "iHOFY3tVlExL"
      }
    },
    {
      "cell_type": "code",
      "source": [
        "from multiprocessing import Pool\n",
        "\n",
        "def square(x):\n",
        "    return x * x\n",
        "\n",
        "if __name__ == '__main__':\n",
        "    with Pool(processes=4) as pool:  # Create a pool of 4 worker processes\n",
        "        numbers = [1, 2, 3, 4, 5, 6, 7, 8, 9, 10]\n",
        "        results = pool.map(square, numbers)  # Apply the 'square' function to each number in parallel\n",
        "\n",
        "    print(results)  # Output: [1, 4, 9, 16, 25, 36, 49, 64, 81, 100]"
      ],
      "metadata": {
        "colab": {
          "base_uri": "https://localhost:8080/"
        },
        "id": "BFxYRJH9lEXc",
        "outputId": "24444452-06b1-49c5-e322-5907dcb4aafb"
      },
      "execution_count": null,
      "outputs": [
        {
          "output_type": "stream",
          "name": "stdout",
          "text": [
            "[1, 4, 9, 16, 25, 36, 49, 64, 81, 100]\n"
          ]
        }
      ]
    },
    {
      "cell_type": "markdown",
      "source": [
        "Q3.  Explain what multiprocessing is and why it is used in Python programs."
      ],
      "metadata": {
        "id": "Dw7BLPszjjKf"
      }
    },
    {
      "cell_type": "markdown",
      "source": [
        "Multiprocessing in Python\n",
        "\n",
        "Multiprocessing in Python is a powerful technique that allows you to execute multiple processes concurrently. This means that your program can leverage multiple CPU cores or processors to perform tasks in parallel, significantly improving performance for computationally intensive operations.\n",
        "\n",
        "Why Use Multiprocessing in Python?\n",
        "\n",
        "1. Overcoming the Global Interpreter Lock (GIL):\n",
        "\n",
        "* Python's GIL (Global Interpreter Lock) is a mechanism that restricts the execution of Python bytecode to a single thread at a time, even on multi-core systems. This can limit the performance of CPU-bound tasks.\n",
        "* Multiprocessing circumvents this limitation by creating separate processes, each with its own Python interpreter and memory space. These processes can execute independently, fully utilizing multiple cores.\n",
        "2. CPU-Bound Tasks:\n",
        "\n",
        "* For tasks that heavily utilize the CPU, such as complex calculations, data processing, or scientific simulations, multiprocessing can provide substantial speedups. By distributing the workload across multiple processes, you can achieve true parallel execution.\n",
        "3. I/O-Bound Tasks:\n",
        "\n",
        "* While not as critical as for CPU-bound tasks, multiprocessing can also be beneficial for I/O-bound tasks. If your program involves frequent input/output operations (e.g., reading from files, making network requests), multiprocessing can allow other processes to continue working while one process waits for I/O to complete.\n",
        "\n",
        "Key Concepts in Python Multiprocessing:\n",
        "\n",
        "* Process class: This class is used to create and manage individual processes.\n",
        "* Pool class: This class provides a convenient way to manage a pool of worker processes, making it easier to distribute tasks and collect results.\n",
        "* Queue class: This class is used for inter-process communication, allowing processes to exchange data.\n",
        "* Pipe objects: These provide a way to establish a communication channel between two processes.\n",
        "\n",
        "Example:"
      ],
      "metadata": {
        "id": "d-EJjc_BnQ87"
      }
    },
    {
      "cell_type": "code",
      "source": [
        "from multiprocessing import Pool\n",
        "\n",
        "def square(x):\n",
        "    return x * x\n",
        "\n",
        "if __name__ == '__main__':\n",
        "    with Pool(processes=4) as pool:  # Create a pool of 4 worker processes\n",
        "        numbers = [1, 2, 3, 4, 5, 6, 7, 8, 9, 10]\n",
        "        results = pool.map(square, numbers)  # Apply the 'square' function to each number in parallel\n",
        "\n",
        "    print(results)  # Output: [1, 4, 9, 16, 25, 36, 49, 64, 81, 100]"
      ],
      "metadata": {
        "colab": {
          "base_uri": "https://localhost:8080/"
        },
        "id": "iYJOCY2ZoPwD",
        "outputId": "434cd1eb-6fa1-462d-c8b7-c63799549ff7"
      },
      "execution_count": null,
      "outputs": [
        {
          "output_type": "stream",
          "name": "stdout",
          "text": [
            "[1, 4, 9, 16, 25, 36, 49, 64, 81, 100]\n"
          ]
        }
      ]
    },
    {
      "cell_type": "markdown",
      "source": [
        "a pool of 4 worker processes is created. The pool.map() function distributes the square function and the list of numbers to the worker processes, which compute the squares in parallel. The results are then collected and printed."
      ],
      "metadata": {
        "id": "gBj9zA8_ob9S"
      }
    },
    {
      "cell_type": "markdown",
      "source": [
        "Q4.  Write a Python program using multithreading where one thread adds numbers to a list, and another thread removes numbers from the list. Implement a mechanism to avoid race conditions using threading.Lock."
      ],
      "metadata": {
        "id": "tli6nESxjmhU"
      }
    },
    {
      "cell_type": "code",
      "source": [
        "import threading\n",
        "import time\n",
        "\n",
        "data = []\n",
        "lock = threading.Lock()\n",
        "\n",
        "def add_numbers():\n",
        "    \"\"\"\n",
        "    Thread to add numbers to the list.\n",
        "    \"\"\"\n",
        "    for i in range(10):\n",
        "        with lock:\n",
        "            data.append(i)\n",
        "            print(f\"Added {i}\")\n",
        "            time.sleep(0.5)  # Simulate some work\n",
        "\n",
        "def remove_numbers():\n",
        "    \"\"\"\n",
        "    Thread to remove numbers from the list.\n",
        "    \"\"\"\n",
        "    while True:\n",
        "        with lock:\n",
        "            if data:\n",
        "                removed_item = data.pop(0)\n",
        "                print(f\"Removed {removed_item}\")\n",
        "                time.sleep(0.5)  # Simulate some work\n",
        "\n",
        "if __name__ == \"__main__\":\n",
        "    add_thread = threading.Thread(target=add_numbers)\n",
        "    remove_thread = threading.Thread(target=remove_numbers)\n",
        "\n",
        "    add_thread.start()\n",
        "    remove_thread.start()\n",
        "\n",
        "    add_thread.join()\n",
        "    remove_thread.join()"
      ],
      "metadata": {
        "colab": {
          "base_uri": "https://localhost:8080/"
        },
        "id": "eDEt9OiHPj3P",
        "outputId": "1f18a256-b557-4ff8-a593-768cace5005a"
      },
      "execution_count": null,
      "outputs": [
        {
          "metadata": {
            "tags": null
          },
          "name": "stdout",
          "output_type": "stream",
          "text": [
            "Added 0\n",
            "Added 1\n",
            "Added 2\n",
            "Removed 0\n",
            "Removed 1\n",
            "Removed 2\n",
            "Added 3\n",
            "Added 4\n",
            "Removed 3\n",
            "Removed 4\n",
            "Added 5\n",
            "Added 6\n",
            "Added 7\n",
            "Added 8\n",
            "Added 9\n",
            "Removed 5\n",
            "Removed 6\n",
            "Removed 7\n",
            "Removed 8\n",
            "Removed 9\n"
          ]
        }
      ]
    },
    {
      "cell_type": "markdown",
      "source": [
        "Q5.  Describe the methods and tools available in Python for safely sharing data between threads and processes."
      ],
      "metadata": {
        "id": "ND02Ov14jsck"
      }
    },
    {
      "cell_type": "markdown",
      "source": [
        "1. Threading\n",
        "\n",
        "* threading.Lock:\n",
        "\n",
        "  * The most basic synchronization primitive.\n",
        "  * Allows only one thread to acquire the lock at a time.\n",
        "  * Used to protect critical sections of code where shared data is accessed or modified.\n",
        "\n",
        "  * Example:"
      ],
      "metadata": {
        "id": "7cj3rVXDR1W6"
      }
    },
    {
      "cell_type": "code",
      "source": [
        "import threading\n",
        "lock = threading.Lock()\n",
        "with lock:\n",
        "    pass"
      ],
      "metadata": {
        "id": "NNqdY5zGSETq"
      },
      "execution_count": 5,
      "outputs": []
    },
    {
      "cell_type": "markdown",
      "source": [
        "* threading.RLock:\n",
        "\n",
        "  * A reentrant lock, allowing the same thread to acquire the lock multiple times.\n",
        "  * Useful when a thread needs to access shared resources within nested blocks.\n",
        "* threading.Semaphore:\n",
        "\n",
        "  * Controls the number of threads that can simultaneously access a shared resource.\n",
        "  * Can be used to limit the number of concurrent connections to a database or the number of threads processing a task.\n",
        "* threading.Condition:\n",
        "\n",
        "  * Provides a mechanism for threads to wait for a specific condition to become true.\n",
        "  * Useful for implementing producer-consumer patterns or other synchronization scenarios.\n",
        "* threading.Event:\n",
        "\n",
        "  * A simple signaling mechanism.\n",
        "  * Allows one thread to signal an event to other threads.\n",
        "  * Useful for notifying threads of a change in state.\n",
        "* Queue.Queue:\n",
        "\n",
        "  * A thread-safe queue for exchanging data between threads.\n",
        "  * Provides methods for putting items onto the queue and getting items from the queue.\n",
        "  * Useful for implementing producer-consumer patterns.\n",
        "2. Multiprocessing\n",
        "\n",
        "* multiprocessing.Queue:\n",
        "\n",
        "  * Similar to Queue.Queue but designed for inter-process communication.\n",
        "  * Allows data to be exchanged between processes running in separate memory spaces.\n",
        "* multiprocessing.Pipe:\n",
        "\n",
        "  * Creates a two-way communication channel between two processes.\n",
        "  * Data can be sent and received through the pipe.\n",
        "* multiprocessing.Manager:\n",
        "\n",
        "  * Provides a way to share data structures (like lists, dictionaries) between processes.\n",
        "  * The data is managed by a separate process, ensuring thread-safe access.\n",
        "* multiprocessing.Value and multiprocessing.Array:\n",
        "\n",
        "  * Allow sharing single values or arrays of values between processes.\n",
        "  * Changes made by one process are reflected in the values seen by other processes.\n",
        "* Shared Memory:\n",
        "\n",
        "  * Allows processes to directly access the same region of memory.\n",
        "  * Can be more efficient than using queues or pipes for large amounts of data.\n",
        "  * Requires careful synchronization to avoid race conditions.\n",
        "  \n",
        "Key Considerations:\n",
        "\n",
        "* Choose the right synchronization mechanism:\n",
        "\n",
        "  * Select the method that best suits your specific needs and the complexity of your data sharing requirements.\n",
        "* Avoid unnecessary locking:\n",
        "\n",
        "  * Excessive locking can introduce performance bottlenecks.\n",
        "  * Only lock the critical sections of code that access or modify shared data.\n",
        "* Test thoroughly:\n",
        "\n",
        "  * Thoroughly test your multithreaded or multiprocessing code to ensure that it works correctly and handles race conditions properly.\n",
        "* Consider memory management:\n",
        "\n",
        "  * When using shared memory or other mechanisms that involve direct memory access, be mindful of memory management to avoid memory leaks or corruption."
      ],
      "metadata": {
        "id": "icVeHAyaS1Ga"
      }
    },
    {
      "cell_type": "markdown",
      "source": [
        "Q6. Discuss why it’s crucial to handle exceptions in concurrent programs and the techniques available for doing so."
      ],
      "metadata": {
        "id": "lvkvmy6YjxP1"
      }
    },
    {
      "cell_type": "markdown",
      "source": [
        "Handling exceptions in concurrent programs is crucial because unhandled exceptions can lead to unpredictable behavior, resource leaks, deadlocks, or program crashes. Effective exception management ensures the stability and reliability of concurrent applications.\n",
        "\n",
        "Why Exception Handling is Crucial in Concurrent Programs\n",
        "\n",
        "1. Avoid Crashes in Threads/Processes:\n",
        "\n",
        "Unhandled exceptions can terminate a thread or process, potentially leaving shared resources in an inconsistent state.\n",
        "\n",
        "2. Resource Cleanup:\n",
        "\n",
        "Without proper exception handling, resources like locks, files, or sockets may not be released, leading to resource leaks.\n",
        "\n",
        "3. Deadlocks and Inconsistent State:\n",
        "\n",
        "If a thread or process holding a lock crashes due to an unhandled exception, other threads or processes waiting for the lock may block indefinitely.\n",
        "\n",
        "4. Debugging and Logging:\n",
        "\n",
        "Exceptions in concurrent programs can be hard to trace due to parallel execution. Capturing exceptions helps in debugging and understanding failure points.\n",
        "\n",
        "5. Graceful Degradation:\n",
        "\n",
        "Applications should fail gracefully by isolating failing components without affecting the entire program.\n",
        "\n",
        "Techniques for Handling Exceptions in Concurrent Programs\n",
        "\n",
        "1. Use Try-Except Blocks\n",
        "\n",
        "Wrap the code inside threads or processes with try-except blocks to handle exceptions locally."
      ],
      "metadata": {
        "id": "RxJ28lTsWgxh"
      }
    },
    {
      "cell_type": "code",
      "source": [
        "import threading\n",
        "\n",
        "def worker():\n",
        "    try:\n",
        "        # Task that might raise an exception\n",
        "        result = 1 / 0\n",
        "    except Exception as e:\n",
        "        print(f\"Exception in thread: {e}\")\n",
        "\n",
        "thread = threading.Thread(target=worker)\n",
        "thread.start()\n",
        "thread.join()"
      ],
      "metadata": {
        "colab": {
          "base_uri": "https://localhost:8080/"
        },
        "id": "DaDU9H3KXZzi",
        "outputId": "72976c7c-6df0-4e61-cc62-f571155b6c0e"
      },
      "execution_count": 6,
      "outputs": [
        {
          "output_type": "stream",
          "name": "stdout",
          "text": [
            "Exception in thread: division by zero\n"
          ]
        }
      ]
    },
    {
      "cell_type": "markdown",
      "source": [
        "2. Capture and Propagate Exceptions\n",
        "In concurrent programs, exceptions can occur in child threads or processes. These exceptions should be captured and propagated to the main thread for handling.\n",
        "\n",
        "* Using queue.Queue for Threads:"
      ],
      "metadata": {
        "id": "2aV666u3XgxT"
      }
    },
    {
      "cell_type": "code",
      "source": [
        "from threading import Thread\n",
        "from queue import Queue\n",
        "\n",
        "def worker(q):\n",
        "    try:\n",
        "        # Code that might fail\n",
        "        raise ValueError(\"An error occurred!\")\n",
        "    except Exception as e:\n",
        "        q.put(e)\n",
        "\n",
        "exception_queue = Queue()\n",
        "thread = Thread(target=worker, args=(exception_queue,))\n",
        "thread.start()\n",
        "thread.join()\n",
        "\n",
        "if not exception_queue.empty():\n",
        "    exception = exception_queue.get()\n",
        "    print(f\"Handled exception: {exception}\")"
      ],
      "metadata": {
        "colab": {
          "base_uri": "https://localhost:8080/"
        },
        "id": "fWQDpuR9XliJ",
        "outputId": "6e126e49-100c-4b48-9308-61c6faeb71db"
      },
      "execution_count": 7,
      "outputs": [
        {
          "output_type": "stream",
          "name": "stdout",
          "text": [
            "Handled exception: An error occurred!\n"
          ]
        }
      ]
    },
    {
      "cell_type": "markdown",
      "source": [
        "Using multiprocessing for Processes: Use multiprocessing.Pool with error callbacks or wrap tasks with try-except blocks.\n",
        "\n",
        "3. Use Higher-Level Abstractions\n",
        "\n",
        "Frameworks like concurrent.futures provide better exception handling mechanisms:\n",
        "\n",
        "* concurrent.futures.ThreadPoolExecutor or ProcessPoolExecutor :"
      ],
      "metadata": {
        "id": "irxnWM7FXttK"
      }
    },
    {
      "cell_type": "code",
      "source": [
        "from concurrent.futures import ThreadPoolExecutor\n",
        "\n",
        "def task():\n",
        "    return 1 / 0  # Example exception\n",
        "\n",
        "with ThreadPoolExecutor() as executor:\n",
        "    future = executor.submit(task)\n",
        "    try:\n",
        "        result = future.result()  # Will raise the exception\n",
        "    except Exception as e:\n",
        "        print(f\"Exception captured: {e}\")"
      ],
      "metadata": {
        "colab": {
          "base_uri": "https://localhost:8080/"
        },
        "id": "dFHLthlgYG3D",
        "outputId": "7d96d490-8d87-40f2-b6c8-c5cf4edd45b5"
      },
      "execution_count": 8,
      "outputs": [
        {
          "output_type": "stream",
          "name": "stdout",
          "text": [
            "Exception captured: division by zero\n"
          ]
        }
      ]
    },
    {
      "cell_type": "markdown",
      "source": [
        "4. Log Exceptions\n",
        "\n",
        "Log exceptions for debugging and monitoring using Python’s logging module."
      ],
      "metadata": {
        "id": "SzjmsIJlYNdi"
      }
    },
    {
      "cell_type": "code",
      "source": [
        "import logging\n",
        "\n",
        "logging.basicConfig(level=logging.ERROR)\n",
        "\n",
        "def task():\n",
        "    try:\n",
        "        raise RuntimeError(\"Test error\")\n",
        "    except Exception as e:\n",
        "        logging.error(\"Error in task\", exc_info=True)"
      ],
      "metadata": {
        "id": "fooTx7u5YSjR"
      },
      "execution_count": 9,
      "outputs": []
    },
    {
      "cell_type": "markdown",
      "source": [
        "5. Graceful Shutdown\n",
        "\n",
        "Use signals or other mechanisms to handle exceptions and terminate threads or processes gracefully.\n",
        "\n",
        "Example with Daemon Threads:"
      ],
      "metadata": {
        "id": "xjLWirX9YaA6"
      }
    },
    {
      "cell_type": "code",
      "source": [
        "import threading\n",
        "import time\n",
        "\n",
        "def worker():\n",
        "    try:\n",
        "        while True:\n",
        "            time.sleep(1)\n",
        "    except KeyboardInterrupt:\n",
        "        print(\"Thread interrupted!\")\n",
        "\n",
        "thread = threading.Thread(target=worker, daemon=True)\n",
        "thread.start()"
      ],
      "metadata": {
        "id": "t18Nm382Yg2K"
      },
      "execution_count": 10,
      "outputs": []
    },
    {
      "cell_type": "markdown",
      "source": [
        "6. Supervisors and Watchdogs\n",
        "\n",
        "For long-running concurrent systems, use supervisory mechanisms to monitor and restart failed threads or processes.\n",
        "\n",
        "Best Practices\n",
        "1. Encapsulate and Log Errors: Ensure all exceptions are either logged or propagated to the parent.\n",
        "2. Clean Up Resources: Use finally blocks or context managers (with) for cleanup.\n",
        "3. Use High-Level Libraries: Use libraries like concurrent.futures to simplify exception handling.\n",
        "4. Fail Fast or Gracefully: Decide whether to fail immediately or continue based on the application's requirements.\n",
        "5. Test Exception Scenarios: Simulate failures to verify exception handling robustness."
      ],
      "metadata": {
        "id": "oueXEtKTYvdz"
      }
    },
    {
      "cell_type": "markdown",
      "source": [
        "Q7.  Create a program that uses a thread pool to calculate the factorial of numbers from 1 to 10 concurrently. Use concurrent.futures.ThreadPoolExecutor to manage the threads."
      ],
      "metadata": {
        "id": "DQpvK0anj1qM"
      }
    },
    {
      "cell_type": "code",
      "source": [
        "from concurrent.futures import ThreadPoolExecutor\n",
        "\n",
        "def factorial(n):\n",
        "    \"\"\"Calculate factorial of a number.\"\"\"\n",
        "    if n == 0 or n == 1:\n",
        "        return 1\n",
        "    else:\n",
        "        return n * factorial(n - 1)\n",
        "\n",
        "def main():\n",
        "    numbers = range(1, 11)  # Numbers from 1 to 10\n",
        "\n",
        "    # Use ThreadPoolExecutor to manage threads\n",
        "    with ThreadPoolExecutor() as executor:\n",
        "        # Submit factorial tasks to the thread pool\n",
        "        results = list(executor.map(factorial, numbers))\n",
        "\n",
        "    # Print results\n",
        "    for number, result in zip(numbers, results):\n",
        "        print(f\"Factorial of {number} is {result}\")\n",
        "\n",
        "if __name__ == \"__main__\":\n",
        "    main()\n"
      ],
      "metadata": {
        "colab": {
          "base_uri": "https://localhost:8080/"
        },
        "id": "ppeYA1M5ZSHy",
        "outputId": "df64a8ee-3905-48a5-cbca-073d1ab875a6"
      },
      "execution_count": 12,
      "outputs": [
        {
          "output_type": "stream",
          "name": "stdout",
          "text": [
            "Factorial of 1 is 1\n",
            "Factorial of 2 is 2\n",
            "Factorial of 3 is 6\n",
            "Factorial of 4 is 24\n",
            "Factorial of 5 is 120\n",
            "Factorial of 6 is 720\n",
            "Factorial of 7 is 5040\n",
            "Factorial of 8 is 40320\n",
            "Factorial of 9 is 362880\n",
            "Factorial of 10 is 3628800\n"
          ]
        }
      ]
    },
    {
      "cell_type": "markdown",
      "source": [
        "Q8.  Create a Python program that uses multiprocessing.Pool to compute the square of numbers from 1 to 10 in parallel. Measure the time taken to perform this computation using a pool of different sizes (e.g., 2, 4, 8 processes)."
      ],
      "metadata": {
        "id": "dHCJovfFj7U2"
      }
    },
    {
      "cell_type": "code",
      "source": [
        "import multiprocessing\n",
        "import time\n",
        "\n",
        "def square(x):\n",
        "    return x * x\n",
        "\n",
        "def parallel_processing(numbers, pool_size):\n",
        "\n",
        "    with multiprocessing.Pool(processes=pool_size) as pool:\n",
        "        start_time = time.time()\n",
        "        results = pool.map(square, numbers)\n",
        "        end_time = time.time()\n",
        "        elapsed_time = end_time - start_time\n",
        "        return results, elapsed_time\n",
        "\n",
        "if __name__ == \"__main__\":\n",
        "    numbers = list(range(1, 11))\n",
        "    pool_sizes = [2, 4, 8]\n",
        "\n",
        "    for pool_size in pool_sizes:\n",
        "        results, elapsed_time = parallel_processing(numbers, pool_size)\n",
        "        print(f\"Pool size: {pool_size}, Results: {results}, Elapsed time: {elapsed_time:.4f} seconds\")"
      ],
      "metadata": {
        "colab": {
          "base_uri": "https://localhost:8080/"
        },
        "id": "_2T1hzHzbFF6",
        "outputId": "ff02210c-92b7-469f-ba35-365e24fcef4b"
      },
      "execution_count": 15,
      "outputs": [
        {
          "output_type": "stream",
          "name": "stdout",
          "text": [
            "Pool size: 2, Results: [1, 4, 9, 16, 25, 36, 49, 64, 81, 100], Elapsed time: 0.0084 seconds\n",
            "Pool size: 4, Results: [1, 4, 9, 16, 25, 36, 49, 64, 81, 100], Elapsed time: 0.0136 seconds\n",
            "Pool size: 8, Results: [1, 4, 9, 16, 25, 36, 49, 64, 81, 100], Elapsed time: 0.0194 seconds\n"
          ]
        }
      ]
    }
  ]
}